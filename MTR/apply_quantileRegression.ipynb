{
 "cells": [
  {
   "cell_type": "code",
   "execution_count": 1,
   "metadata": {
    "collapsed": false
   },
   "outputs": [
    {
     "name": "stdout",
     "output_type": "stream",
     "text": [
      "Last time runned on 2017-04-25 13:39:52.295954\n"
     ]
    }
   ],
   "source": [
    "from datetime import datetime\n",
    "print \"Last time runned on\", str(datetime.now())"
   ]
  },
  {
   "cell_type": "code",
   "execution_count": 2,
   "metadata": {
    "collapsed": false
   },
   "outputs": [
    {
     "data": {
      "application/javascript": [
       "require(['codemirror/mode/clike/clike'], function(Clike) { console.log('ROOTaaS - C++ CodeMirror module loaded'); });"
      ]
     },
     "metadata": {},
     "output_type": "display_data"
    },
    {
     "data": {
      "application/javascript": [
       "IPython.CodeCell.config_defaults.highlight_modes['magic_text/x-c++src'] = {'reg':[/^%%cpp/]};"
      ]
     },
     "metadata": {},
     "output_type": "display_data"
    },
    {
     "name": "stdout",
     "output_type": "stream",
     "text": [
      "Welcome to ROOTaaS 6.06/08\n"
     ]
    }
   ],
   "source": [
    "from quantileRegression import quantileRegression\n",
    "import numpy as np"
   ]
  },
  {
   "cell_type": "code",
   "execution_count": 3,
   "metadata": {
    "collapsed": false
   },
   "outputs": [],
   "source": [
    "# Variable you want to correct\n",
    "ylist = [\"R9\"] # , \"S4\", \"SigmaIeIe\", \"EtaWidth\", \"PhiWidth\", \"CovarianceIphiIphi\", \"SigmaRR\", 'CovarianceIetaIphi']\n",
    "\n",
    "# Input variables used for the regression\n",
    "X = ['Pt', 'ScEta', 'Phi', 'rho']  # <<-- list"
   ]
  },
  {
   "cell_type": "code",
   "execution_count": 4,
   "metadata": {
    "collapsed": false
   },
   "outputs": [
    {
     "name": "stdout",
     "output_type": "stream",
     "text": [
      "Number of quantiles  9\n"
     ]
    }
   ],
   "source": [
    "# Set the quantiles \n",
    "quantiles = [ 0.1, 0.2, 0.3, 0.4, 0.5, 0.6, 0.7, 0.8, 0.9 ]\n",
    "print \"Number of quantiles \", len(quantiles)"
   ]
  },
  {
   "cell_type": "code",
   "execution_count": 5,
   "metadata": {
    "collapsed": true
   },
   "outputs": [],
   "source": [
    "# Initialize the quantile regression object for mc\n",
    "qr_mc = quantileRegression(\"mc\")"
   ]
  },
  {
   "cell_type": "code",
   "execution_count": 6,
   "metadata": {
    "collapsed": false
   },
   "outputs": [
    {
     "name": "stdout",
     "output_type": "stream",
     "text": [
      "Load the mc dataframe\n",
      "NT branches: \n",
      "['run', 'rho', 'nvtx', 'mass', 'weight', 'leadEleMatch', 'subleadEleMatch', 'leadPt', 'leadScEta', 'leadPhi', 'leadScEnergy', 'leadScPreshowerEnergy', 'leadSigmaRR', 'leadPhoIso03', 'leadChIso03', 'leadChIso03worst', 'leadPhoIDMVA', 'leadR9', 'leadS4', 'leadEtaWidth', 'leadPhiWidth', 'leadSigmaIeIe', 'leadCovarianceIetaIphi', 'leadCovarianceIphiIphi', 'subleadPt', 'subleadScEta', 'subleadPhi', 'subleadScEnergy', 'subleadScPreshowerEnergy', 'subleadSigmaRR', 'subleadPhoIso03', 'subleadChIso03', 'subleadChIso03worst', 'subLeadPhoIDMVA', 'subleadR9', 'subleadS4', 'subleadEtaWidth', 'subleadPhiWidth', 'subleadSigmaIeIe', 'subleadCovarianceIetaIphi', 'subleadCovarianceIphiIphi']\n",
      "['cicNoSigmaIetaIeta/trees/DYJetsToLL_13TeV_EBHighR9', 'cicNoSigmaIetaIeta/trees/DYJetsToLL_13TeV_EBLowR9', 'cicNoSigmaIetaIeta/trees/DYJetsToLL_13TeV_EEHighR9', 'cicNoSigmaIetaIeta/trees/DYJetsToLL_13TeV_EELowR9']\n",
      "Adding trees into a DataFrame\n",
      "  adding  cicNoSigmaIetaIeta/trees/DYJetsToLL_13TeV_EBHighR9\n",
      "  adding  cicNoSigmaIetaIeta/trees/DYJetsToLL_13TeV_EBLowR9\n",
      "  adding  cicNoSigmaIetaIeta/trees/DYJetsToLL_13TeV_EEHighR9\n",
      "  adding  cicNoSigmaIetaIeta/trees/DYJetsToLL_13TeV_EELowR9\n",
      "Number of events  \n",
      "run                          7073020\n",
      "rho                          7073020\n",
      "nvtx                         7073020\n",
      "mass                         7073020\n",
      "weight                       7073020\n",
      "leadEleMatch                 7073020\n",
      "subleadEleMatch              7073020\n",
      "leadPt                       7073020\n",
      "leadScEta                    7073020\n",
      "leadPhi                      7073020\n",
      "leadScEnergy                 7073020\n",
      "leadScPreshowerEnergy        7073020\n",
      "leadSigmaRR                  7073020\n",
      "leadPhoIso03                 7073020\n",
      "leadChIso03                  7073020\n",
      "leadChIso03worst             7073020\n",
      "leadPhoIDMVA                 7073020\n",
      "leadR9                       7073020\n",
      "leadS4                       7073020\n",
      "leadEtaWidth                 7073020\n",
      "leadPhiWidth                 7073020\n",
      "leadSigmaIeIe                7073020\n",
      "leadCovarianceIetaIphi       7073020\n",
      "leadCovarianceIphiIphi       7073020\n",
      "subleadPt                    7073020\n",
      "subleadScEta                 7073020\n",
      "subleadPhi                   7073020\n",
      "subleadScEnergy              7073020\n",
      "subleadScPreshowerEnergy     7073020\n",
      "subleadSigmaRR               7073020\n",
      "subleadPhoIso03              7073020\n",
      "subleadChIso03               7073020\n",
      "subleadChIso03worst          7073020\n",
      "subLeadPhoIDMVA              7073020\n",
      "subleadR9                    7073020\n",
      "subleadS4                    7073020\n",
      "subleadEtaWidth              7073020\n",
      "subleadPhiWidth              7073020\n",
      "subleadSigmaIeIe             7073020\n",
      "subleadCovarianceIetaIphi    7073020\n",
      "subleadCovarianceIphiIphi    7073020\n",
      "dtype: int64\n",
      "# lead eleMatch    =  6081954\n",
      "# sublead eleMatch =  5528292\n",
      "MC Sublead\n",
      "run                   6081954\n",
      "rho                   6081954\n",
      "nvtx                  6081954\n",
      "mass                  6081954\n",
      "weight                6081954\n",
      "Pt                    6081954\n",
      "ScEta                 6081954\n",
      "Phi                   6081954\n",
      "ScEnergy              6081954\n",
      "ScPreshowerEnergy     6081954\n",
      "SigmaRR               6081954\n",
      "PhoIso03              6081954\n",
      "ChIso03               6081954\n",
      "ChIso03worst          6081954\n",
      "PhoIDMVA              6081954\n",
      "R9                    6081954\n",
      "S4                    6081954\n",
      "EtaWidth              6081954\n",
      "PhiWidth              6081954\n",
      "SigmaIeIe             6081954\n",
      "CovarianceIetaIphi    6081954\n",
      "CovarianceIphiIphi    6081954\n",
      "dtype: int64\n",
      "MC Lead\n",
      "run                   5528292\n",
      "rho                   5528292\n",
      "nvtx                  5528292\n",
      "mass                  5528292\n",
      "weight                5528292\n",
      "Pt                    5528292\n",
      "ScEta                 5528292\n",
      "Phi                   5528292\n",
      "ScEnergy              5528292\n",
      "ScPreshowerEnergy     5528292\n",
      "SigmaRR               5528292\n",
      "PhoIso03              5528292\n",
      "ChIso03               5528292\n",
      "ChIso03worst          5528292\n",
      "PhoIDMVA              5528292\n",
      "R9                    5528292\n",
      "S4                    5528292\n",
      "EtaWidth              5528292\n",
      "PhiWidth              5528292\n",
      "SigmaIeIe             5528292\n",
      "CovarianceIetaIphi    5528292\n",
      "CovarianceIphiIphi    5528292\n",
      "dtype: int64\n",
      "Count final dataset\n",
      "index                 11610246\n",
      "run                   11610246\n",
      "rho                   11610246\n",
      "nvtx                  11610246\n",
      "mass                  11610246\n",
      "weight                11610246\n",
      "Pt                    11610246\n",
      "ScEta                 11610246\n",
      "Phi                   11610246\n",
      "ScEnergy              11610246\n",
      "ScPreshowerEnergy     11610246\n",
      "SigmaRR               11610246\n",
      "PhoIso03              11610246\n",
      "ChIso03               11610246\n",
      "ChIso03worst          11610246\n",
      "PhoIDMVA              11610246\n",
      "R9                    11610246\n",
      "S4                    11610246\n",
      "EtaWidth              11610246\n",
      "PhiWidth              11610246\n",
      "SigmaIeIe             11610246\n",
      "CovarianceIetaIphi    11610246\n",
      "CovarianceIphiIphi    11610246\n",
      "dtype: int64\n",
      "Index([u'index', u'run', u'rho', u'nvtx', u'mass', u'weight', u'Pt', u'ScEta',\n",
      "       u'Phi', u'ScEnergy', u'ScPreshowerEnergy', u'SigmaRR', u'PhoIso03',\n",
      "       u'ChIso03', u'ChIso03worst', u'PhoIDMVA', u'R9', u'S4', u'EtaWidth',\n",
      "       u'PhiWidth', u'SigmaIeIe', u'CovarianceIetaIphi',\n",
      "       u'CovarianceIphiIphi'],\n",
      "      dtype='object')\n",
      "\u001b[92mApply basic selection\u001b[0m\n",
      " ptmin  =  25.0 \n",
      " ptmax  =  150.0  \n",
      " etamin =  -2.5  \n",
      " etamax =  2.5  \n",
      " phimin =  -3.14  \n",
      " phimax =  3.14\n",
      "DataFrame size after basic selection =  11554791\n",
      "\u001b[92mReshuffle events\u001b[0m rndm seed  =  12345\n",
      "\u001b[92mSelecting events \u001b[0m  [ 2000000 ,  4000000 ]  out of  11554791\n",
      "DataFrame size =  2000000\n"
     ]
    }
   ],
   "source": [
    "# This is what you want to correct\n",
    "print \"Load the mc dataframe\"\n",
    "startEvtmc = 2000000\n",
    "stopEvtmc  = 4000000\n",
    "qr_mc.loadDF(\"/mnt/t3nfs01/data01/shome/mdonega/lxplus/work/CMSSW_8_0_26_patch1/src/diphotons/Analysis/macros/double_ele_v9_moriond17_mc/\",\n",
    "             # \"/mnt/t3nfs01/data01/shome/mdonega/dataMC/nt/double_ele_spring16v2_sync_v2_mc/\",  \n",
    "             \"cicNoSigmaIetaIeta/trees/\",\n",
    "             [\"DYJetsToLL_13TeV_EBHighR9\", \"DYJetsToLL_13TeV_EBLowR9\", \"DYJetsToLL_13TeV_EEHighR9\", \"DYJetsToLL_13TeV_EELowR9\" ],\n",
    "             # [\"DYToEE_powheg_13TeV_EBHighR9\", \"DYToEE_powheg_13TeV_EBLowR9\", \"DYToEE_powheg_13TeV_EEHighR9\", \"DYToEE_powheg_13TeV_EELowR9\" ],\n",
    "             startEvtmc, stopEvtmc, rndm = 12345)"
   ]
  },
  {
   "cell_type": "code",
   "execution_count": 7,
   "metadata": {
    "collapsed": false
   },
   "outputs": [
    {
     "name": "stdout",
     "output_type": "stream",
     "text": [
      "Get the corrected data-mc values\n",
      "Loading corrected targets from :  correctedTargets.h5\n"
     ]
    }
   ],
   "source": [
    "print \"Get the corrected data-mc values\"\n",
    "qr_mc.correctAllY(X, ylist, quantiles )"
   ]
  },
  {
   "cell_type": "code",
   "execution_count": 8,
   "metadata": {
    "collapsed": false
   },
   "outputs": [],
   "source": [
    "dfmc = qr_mc.getDF()"
   ]
  },
  {
   "cell_type": "code",
   "execution_count": 9,
   "metadata": {
    "collapsed": false
   },
   "outputs": [],
   "source": [
    "import runNumbers as rn"
   ]
  },
  {
   "cell_type": "code",
   "execution_count": 10,
   "metadata": {
    "collapsed": false
   },
   "outputs": [
    {
     "name": "stdout",
     "output_type": "stream",
     "text": [
      "Load the data dataframe\n",
      "NT branches: \n",
      "['run', 'rho', 'nvtx', 'mass', 'weight', 'leadHLT_Ele27_WPTight_Gsf_vMatch', 'subleadHLT_Ele27_WPTight_Gsf_vMatch', 'leadEleMatch', 'subleadEleMatch', 'leadPt', 'leadScEta', 'leadPhi', 'leadScEnergy', 'leadScPreshowerEnergy', 'leadSigmaRR', 'leadPhoIso03', 'leadChIso03', 'leadChIso03worst', 'leadPhoIDMVA', 'leadR9', 'leadS4', 'leadEtaWidth', 'leadPhiWidth', 'leadSigmaIeIe', 'leadCovarianceIetaIphi', 'leadCovarianceIphiIphi', 'subleadPt', 'subleadScEta', 'subleadPhi', 'subleadScEnergy', 'subleadScPreshowerEnergy', 'subleadSigmaRR', 'subleadPhoIso03', 'subleadChIso03', 'subleadChIso03worst', 'subLeadPhoIDMVA', 'subleadR9', 'subleadS4', 'subleadEtaWidth', 'subleadPhiWidth', 'subleadSigmaIeIe', 'subleadCovarianceIetaIphi', 'subleadCovarianceIphiIphi']\n",
      "['cicNoSigmaIetaIeta/trees/Data_13TeV_EBHighR9', 'cicNoSigmaIetaIeta/trees/Data_13TeV_EBLowR9', 'cicNoSigmaIetaIeta/trees/Data_13TeV_EEHighR9', 'cicNoSigmaIetaIeta/trees/Data_13TeV_EELowR9']\n",
      "Adding trees into a DataFrame\n",
      "  adding  cicNoSigmaIetaIeta/trees/Data_13TeV_EBHighR9\n",
      "  adding  cicNoSigmaIetaIeta/trees/Data_13TeV_EBLowR9\n",
      "  adding  cicNoSigmaIetaIeta/trees/Data_13TeV_EEHighR9\n",
      "  adding  cicNoSigmaIetaIeta/trees/Data_13TeV_EELowR9\n",
      "Number of events  \n",
      "run                                    15355385\n",
      "rho                                    15355385\n",
      "nvtx                                   15355385\n",
      "mass                                   15355385\n",
      "weight                                 15355385\n",
      "leadHLT_Ele27_WPTight_Gsf_vMatch       15355385\n",
      "subleadHLT_Ele27_WPTight_Gsf_vMatch    15355385\n",
      "leadEleMatch                           15355385\n",
      "subleadEleMatch                        15355385\n",
      "leadPt                                 15355385\n",
      "leadScEta                              15355385\n",
      "leadPhi                                15355385\n",
      "leadScEnergy                           15355385\n",
      "leadScPreshowerEnergy                  15355385\n",
      "leadSigmaRR                            15355385\n",
      "leadPhoIso03                           15355385\n",
      "leadChIso03                            15355385\n",
      "leadChIso03worst                       15355385\n",
      "leadPhoIDMVA                           15355385\n",
      "leadR9                                 15355385\n",
      "leadS4                                 15355385\n",
      "leadEtaWidth                           15355385\n",
      "leadPhiWidth                           15355385\n",
      "leadSigmaIeIe                          15355385\n",
      "leadCovarianceIetaIphi                 15355385\n",
      "leadCovarianceIphiIphi                 15355385\n",
      "subleadPt                              15355385\n",
      "subleadScEta                           15355385\n",
      "subleadPhi                             15355385\n",
      "subleadScEnergy                        15355385\n",
      "subleadScPreshowerEnergy               15355385\n",
      "subleadSigmaRR                         15355385\n",
      "subleadPhoIso03                        15355385\n",
      "subleadChIso03                         15355385\n",
      "subleadChIso03worst                    15355385\n",
      "subLeadPhoIDMVA                        15355385\n",
      "subleadR9                              15355385\n",
      "subleadS4                              15355385\n",
      "subleadEtaWidth                        15355385\n",
      "subleadPhiWidth                        15355385\n",
      "subleadSigmaIeIe                       15355385\n",
      "subleadCovarianceIetaIphi              15355385\n",
      "subleadCovarianceIphiIphi              15355385\n",
      "dtype: int64\n",
      "Count df\n",
      "# lead eleMatch    =  4694664\n",
      "# sublead eleMatch =  4137321\n",
      "# lead trig   =  4572255\n",
      "# sublead trg =  3643861\n",
      "# lead trig and eleMatch    =  4328314\n",
      "# sublead trig and eleMatch =  3371474\n",
      "evtbranches ['run', 'rho', 'nvtx', 'mass', 'weight']\n",
      "unif ['run', 'rho', 'nvtx', 'mass', 'weight', 'Pt', 'ScEta', 'Phi', 'ScEnergy', 'ScPreshowerEnergy', 'SigmaRR', 'PhoIso03', 'ChIso03', 'ChIso03worst', 'PhoIDMVA', 'R9', 'S4', 'EtaWidth', 'PhiWidth', 'SigmaIeIe', 'CovarianceIetaIphi', 'CovarianceIphiIphi']\n",
      "Data Sublead\n",
      "Index([u'run', u'rho', u'nvtx', u'mass', u'weight', u'subleadPt',\n",
      "       u'subleadScEta', u'subleadPhi', u'subleadScEnergy',\n",
      "       u'subleadScPreshowerEnergy', u'subleadSigmaRR', u'subleadPhoIso03',\n",
      "       u'subleadChIso03', u'subleadChIso03worst', u'subLeadPhoIDMVA',\n",
      "       u'subleadR9', u'subleadS4', u'subleadEtaWidth', u'subleadPhiWidth',\n",
      "       u'subleadSigmaIeIe', u'subleadCovarianceIetaIphi',\n",
      "       u'subleadCovarianceIphiIphi'],\n",
      "      dtype='object')\n",
      "run                   4328314\n",
      "rho                   4328314\n",
      "nvtx                  4328314\n",
      "mass                  4328314\n",
      "weight                4328314\n",
      "Pt                    4328314\n",
      "ScEta                 4328314\n",
      "Phi                   4328314\n",
      "ScEnergy              4328314\n",
      "ScPreshowerEnergy     4328314\n",
      "SigmaRR               4328314\n",
      "PhoIso03              4328314\n",
      "ChIso03               4328314\n",
      "ChIso03worst          4328314\n",
      "PhoIDMVA              4328314\n",
      "R9                    4328314\n",
      "S4                    4328314\n",
      "EtaWidth              4328314\n",
      "PhiWidth              4328314\n",
      "SigmaIeIe             4328314\n",
      "CovarianceIetaIphi    4328314\n",
      "CovarianceIphiIphi    4328314\n",
      "dtype: int64\n",
      "Data Lead\n",
      "run                   3371474\n",
      "rho                   3371474\n",
      "nvtx                  3371474\n",
      "mass                  3371474\n",
      "weight                3371474\n",
      "Pt                    3371474\n",
      "ScEta                 3371474\n",
      "Phi                   3371474\n",
      "ScEnergy              3371474\n",
      "ScPreshowerEnergy     3371474\n",
      "SigmaRR               3371474\n",
      "PhoIso03              3371474\n",
      "ChIso03               3371474\n",
      "ChIso03worst          3371474\n",
      "PhoIDMVA              3371474\n",
      "R9                    3371474\n",
      "S4                    3371474\n",
      "EtaWidth              3371474\n",
      "PhiWidth              3371474\n",
      "SigmaIeIe             3371474\n",
      "CovarianceIetaIphi    3371474\n",
      "CovarianceIphiIphi    3371474\n",
      "dtype: int64\n",
      "Count final dataset\n",
      "index                 7699788\n",
      "run                   7699788\n",
      "rho                   7699788\n",
      "nvtx                  7699788\n",
      "mass                  7699788\n",
      "weight                7699788\n",
      "Pt                    7699788\n",
      "ScEta                 7699788\n",
      "Phi                   7699788\n",
      "ScEnergy              7699788\n",
      "ScPreshowerEnergy     7699788\n",
      "SigmaRR               7699788\n",
      "PhoIso03              7699788\n",
      "ChIso03               7699788\n",
      "ChIso03worst          7699788\n",
      "PhoIDMVA              7699788\n",
      "R9                    7699788\n",
      "S4                    7699788\n",
      "EtaWidth              7699788\n",
      "PhiWidth              7699788\n",
      "SigmaIeIe             7699788\n",
      "CovarianceIetaIphi    7699788\n",
      "CovarianceIphiIphi    7699788\n",
      "dtype: int64\n",
      "Index([u'index', u'run', u'rho', u'nvtx', u'mass', u'weight', u'Pt', u'ScEta',\n",
      "       u'Phi', u'ScEnergy', u'ScPreshowerEnergy', u'SigmaRR', u'PhoIso03',\n",
      "       u'ChIso03', u'ChIso03worst', u'PhoIDMVA', u'R9', u'S4', u'EtaWidth',\n",
      "       u'PhiWidth', u'SigmaIeIe', u'CovarianceIetaIphi',\n",
      "       u'CovarianceIphiIphi'],\n",
      "      dtype='object')\n",
      "\u001b[92mApply basic selection\u001b[0m\n",
      " ptmin  =  25.0 \n",
      " ptmax  =  150.0  \n",
      " etamin =  -2.5  \n",
      " etamax =  2.5  \n",
      " phimin =  -3.14  \n",
      " phimax =  3.14\n",
      "DataFrame size after basic selection =  7668122\n",
      "\u001b[92mReshuffle events\u001b[0m rndm seed  =  12345\n",
      "\u001b[92mSelecting events \u001b[0m  [ 2000000 ,  4000000 ]  out of  7668122\n",
      "DataFrame size =  2000000\n"
     ]
    }
   ],
   "source": [
    "# Plot data, mc, mc_corrr\n",
    "# just need to load the data for plotting \n",
    "qr_data = quantileRegression(\"data\")\n",
    "startEvtdata = 2000000\n",
    "stopEvtdata  = 4000000\n",
    "print \"Load the data dataframe\"\n",
    "qr_data.loadDF(\"/mnt/t3nfs01/data01/shome/mdonega/lxplus/work/CMSSW_8_0_26_patch1/src/diphotons/Analysis/macros/double_ele_v9_moriond17_data/\", \n",
    "               #\"/mnt/t3nfs01/data01/shome/mdonega/dataMC/nt/double_ele_spring16v2_sync_v2_ichep/\",\n",
    "               \"cicNoSigmaIetaIeta/trees/\",\n",
    "               [\"Data_13TeV_EBHighR9\", \"Data_13TeV_EBLowR9\", \"Data_13TeV_EEHighR9\", \"Data_13TeV_EELowR9\" ],\n",
    "               startEvtdata, stopEvtdata, rndm = 12345, \n",
    "               runStart = rn.run2016B[0], runStop = rn.run2016D[1])"
   ]
  },
  {
   "cell_type": "code",
   "execution_count": 11,
   "metadata": {
    "collapsed": false
   },
   "outputs": [],
   "source": [
    "#y_data   = qr_data.getY(y)\n",
    "dfdata = qr_data.getDF()"
   ]
  },
  {
   "cell_type": "code",
   "execution_count": 12,
   "metadata": {
    "collapsed": false
   },
   "outputs": [],
   "source": [
    "# dfdata = dfdata.query('run < 276811')"
   ]
  },
  {
   "cell_type": "code",
   "execution_count": 13,
   "metadata": {
    "collapsed": false
   },
   "outputs": [],
   "source": [
    "# Some basic plots\n",
    "import matplotlib.pyplot as plt\n",
    "%matplotlib inline\n",
    "# %matplotlib notebook\n",
    "plt.style.use('ggplot')"
   ]
  },
  {
   "cell_type": "code",
   "execution_count": 14,
   "metadata": {
    "collapsed": false,
    "scrolled": false
   },
   "outputs": [],
   "source": [
    "# Diagnostic plots  --> scatter plot super heavy !\n",
    "#plotQ = qr_mc.plotQuantilesR9(quantiles)\n",
    "# Pt, ScEta, Phi, rho\n",
    "# plotQpt  = qr_mc.plotQuantiles(quantiles, 'Pt',    10, 20, 60,      'R9', '$pt$',  'R$_9$', \"./meanR9_pt.pdf\")\n",
    "# plotQpt.plot()\n",
    "# plotQeta = qr_mc.plotQuantiles(quantiles, 'ScEta', 10, -2.5, 2.5,   'R9', '$eta$', 'R$_9$', \"./meanR9_eta.pdf\")\n",
    "# plotQeta.plot()\n",
    "# plotQphi = qr_mc.plotQuantiles(quantiles, 'Phi',   10, -3.14, 3.14, 'R9', '$phi$', 'R$_9$', \"./meanR9_phi.pdf\")\n",
    "# plotQphi.plot()\n",
    "# plotQrho = qr_mc.plotQuantiles(quantiles, 'rho',   10, 0, 50,       'R9', '$rho$', 'R$_9$', \"./meanR9_rho.pdf\")\n",
    "# plotQrho.plot()"
   ]
  },
  {
   "cell_type": "code",
   "execution_count": 15,
   "metadata": {
    "collapsed": false
   },
   "outputs": [],
   "source": [
    "# fig = plt.figure()\n",
    "# ax1 = fig.add_subplot(2, 2, 1)\n",
    "# h_mc     = y_mc    .hist(bins=100, alpha = 1, color='g')\n",
    "# ax2 = fig.add_subplot(2, 2, 2)\n",
    "# h_mccorr = y_mccorr.hist(bins=100, alpha = 1, color='b')\n",
    "# ax3 = fig.add_subplot(2, 2, 3)\n",
    "# h_data   = y_data  .hist(bins=100, alpha = 1, color='r')\n",
    "# print \"mc    \", y_mc.count()\n",
    "# print \"data  \", y_data.count()\n",
    "# print \"mccorr\", y_mccorr.count()"
   ]
  },
  {
   "cell_type": "code",
   "execution_count": 16,
   "metadata": {
    "collapsed": false
   },
   "outputs": [],
   "source": [
    "# fig2 = plt.figure()\n",
    "# h_data    = y_data  .hist(bins=100, alpha = 1.0, color='r', normed = 1)\n",
    "# h_mc      = y_mc    .hist(bins=100, alpha = 0.5, color='g', normed = 1)\n",
    "# h_mccorr2 = y_mccorr.hist(bins=100, alpha = 0.5, color='b', normed = 1)\n",
    "# fig2.savefig(\"test.pdf\")"
   ]
  },
  {
   "cell_type": "code",
   "execution_count": 17,
   "metadata": {
    "collapsed": false,
    "scrolled": false
   },
   "outputs": [
    {
     "name": "stdout",
     "output_type": "stream",
     "text": [
      "['R9']\n",
      "plotting  R9\n"
     ]
    },
    {
     "data": {
      "image/png": "[encoded data removed]",
      "text/plain": [
       "<matplotlib.figure.Figure at 0x7f010a9a4ad0>"
      ]
     },
     "metadata": {},
     "output_type": "display_data"
    },
    {
     "data": {
      "image/png": "[encoded data removed]",
      "text/plain": [
       "<matplotlib.figure.Figure at 0x7f02725d56d0>"
      ]
     },
     "metadata": {},
     "output_type": "display_data"
    },
    {
     "data": {
      "image/png": "[encoded data removed]",
      "text/plain": [
       "<matplotlib.figure.Figure at 0x7f0272495410>"
      ]
     },
     "metadata": {},
     "output_type": "display_data"
    }
   ],
   "source": [
    "# dfmc = dfmc.query('-1.44 < ScEta and ScEta < 1.44')\n",
    "# dfdata = dfdata.query('-1.44 < ScEta and ScEta < 1.44')\n",
    "# dfmc   = dfmc.query('ScEta <-1.57 or 1.57 < ScEta')\n",
    "# dfdata = dfdata.query('ScEta <-1.57 or 1.57 < ScEta')\n",
    "\n",
    "print ylist\n",
    "for yvar in ylist:\n",
    "    yvarcorr = yvar+\"_corr\"\n",
    "    print \"plotting \", yvar\n",
    "\n",
    "    rv = []\n",
    "    if yvar == \"R9\":\n",
    "        rv  = np.arange(0.0,1.0,0.001)\n",
    "        rv2 = np.arange(0.8,1.0,0.001)\n",
    "    if yvar == \"S4\":\n",
    "        rv  = np.arange(0.0,1.0,0.001)\n",
    "        rv2 = np.arange(0.8,1.0,0.001)\n",
    "    if yvar == \"SigmaIeIe\":\n",
    "        rv = np.arange(0.0,0.015,0.0001)\n",
    "        rv2 = np.arange(0.015,0.030,0.0001)\n",
    "    if yvar == \"EtaWidth\":\n",
    "        rv = np.arange(0.0,0.05,0.0001)\n",
    "        rv2 = np.arange(0.005,0.025,0.0001)\n",
    "    if yvar == \"PhiWidth\":\n",
    "        rv = np.arange(0.0,0.2,0.001)\n",
    "        rv2 = np.arange(0.0,0.05,0.0003)\n",
    "    if yvar == \"CovarianceIphiIphi\":\n",
    "        rv  = np.arange(0.0, 0.02,0.0001)\n",
    "        rv2 = np.arange(0.02, 0.05,0.0005)\n",
    "    if yvar == \"SigmaRR\":\n",
    "        rv = np.arange(1, 12.0,0.1) \n",
    "        rv2 = np.arange(1, 12.0,0.1)\n",
    "    if yvar == \"CovarianceIetaIphi\":\n",
    "        rv = np.arange(-0.0002, 0.0002,0.0000001) \n",
    "        rv2 = np.arange(-0.00005, 0.00005,0.0000001)\n",
    "    if yvar == \"PhoIso03\":\n",
    "        rv = np.arange(-0.05, 0.05,0.0005) \n",
    "        rv2 = np.arange(0.1, 5.0,0.05)\n",
    "    if yvar == \"ChIso03\":\n",
    "        rv = np.arange(-0.05, 0.05,0.0005) \n",
    "        rv2 = np.arange(0.1, 5.,0.05)\n",
    "    if yvar == \"ChIso03worst\":\n",
    "        rv = np.arange(-0.05, 0.05,0.0005) \n",
    "        rv2 = np.arange(0.1, 5.0, 0.05)\n",
    "    \n",
    "    fig = plt.figure()\n",
    "    ax = fig.add_subplot(111)\n",
    "    ax.set_xlabel(yvar)\n",
    "    mc_bins, _edges = np.histogram(dfmc[yvar], rv, weights=dfmc['weight'], normed = 1)\n",
    "    edges = _edges[:len(_edges)-1]\n",
    "    plt.plot(edges,mc_bins,\"g\")\n",
    "    mccorr_bins, _edges = np.histogram(dfmc[yvarcorr], rv, weights=dfmc['weight'], normed = 1)\n",
    "    edges = _edges[:len(_edges)-1]\n",
    "    plt.plot(edges,mccorr_bins,\"b\")\n",
    "    data_bins, _edges = np.histogram(dfdata[yvar], rv, normed = 1)\n",
    "    edges = _edges[:len(_edges)-1]\n",
    "    plt.plot(edges  ,data_bins,\"r\")\n",
    "\n",
    "    fig = plt.figure()\n",
    "    ax = fig.add_subplot(111)\n",
    "    ax.set_xlabel(yvar)\n",
    "    mc_bins, _edges = np.histogram(dfmc[yvar], rv2, weights=dfmc['weight'], normed = 1)\n",
    "    edges = _edges[:len(_edges)-1]\n",
    "    plt.plot(edges,mc_bins,\"g\")\n",
    "    mccorr_bins, _edges = np.histogram(dfmc[yvarcorr], rv2, weights=dfmc['weight'], normed = 1)\n",
    "    edges = _edges[:len(_edges)-1]\n",
    "    plt.plot(edges,mccorr_bins,\"b\")\n",
    "    data_bins, _edges = np.histogram(dfdata[yvar], rv2, normed = 1)\n",
    "    edges = _edges[:len(_edges)-1]\n",
    "    plt.plot(edges  ,data_bins,\"r\")\n",
    "\n",
    "    fig = plt.figure()\n",
    "    ax = fig.add_subplot(111)\n",
    "    ax.set_xlabel(yvar)\n",
    "    mc_bins, _edges = np.histogram(dfmc[yvar], rv2, normed = 1)\n",
    "    edges = _edges[:len(_edges)-1]\n",
    "    plt.plot(edges,mc_bins,\"g\")\n",
    "    mccorr_bins, _edges = np.histogram(dfmc[yvarcorr], rv2, normed = 1)\n",
    "    edges = _edges[:len(_edges)-1]\n",
    "    plt.plot(edges,mccorr_bins,\"b\")\n",
    "    data_bins, _edges = np.histogram(dfdata[yvar], rv2, normed = 1)\n",
    "    edges = _edges[:len(_edges)-1]\n",
    "    plt.plot(edges  ,data_bins,\"r\")\n",
    "   \n",
    "    \n",
    "# mc_bins, _edges = np.histogram(y_mc, rv, normed = 1)\n",
    "# edges = _edges[:len(_edges)-1]\n",
    "# plt.plot(edges,mc_bins,\"g\")\n",
    "# mccorr_bins, _edges = np.histogram(y_mccorr, rv, normed = 1)\n",
    "# edges = _edges[:len(_edges)-1]\n",
    "# plt.plot(edges,mccorr_bins,\"b\")\n",
    "# data_bins, _edges = np.histogram(y_data, rv, normed = 1)b\n",
    "\n",
    "# edges = _edges[:len(_edges)-1]\n",
    "# plt.plot(edges  ,data_bins,\"r\")"
   ]
  },
  {
   "cell_type": "code",
   "execution_count": null,
   "metadata": {
    "collapsed": true
   },
   "outputs": [],
   "source": []
  }
 ],
 "metadata": {
  "anaconda-cloud": {},
  "kernelspec": {
   "display_name": "Python [default]",
   "language": "python",
   "name": "python2"
  },
  "language_info": {
   "codemirror_mode": {
    "name": "ipython",
    "version": 2
   },
   "file_extension": ".py",
   "mimetype": "text/x-python",
   "name": "python",
   "nbconvert_exporter": "python",
   "pygments_lexer": "ipython2",
   "version": "2.7.12"
  }
 },
 "nbformat": 4,
 "nbformat_minor": 0
}
