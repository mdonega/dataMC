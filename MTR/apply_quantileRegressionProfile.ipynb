{
 "cells": [
  {
   "cell_type": "code",
   "execution_count": 1,
   "metadata": {
    "collapsed": false
   },
   "outputs": [
    {
     "name": "stdout",
     "output_type": "stream",
     "text": [
      "Last time runned on 2017-06-26 10:23:46.730899\n"
     ]
    }
   ],
   "source": [
    "from datetime import datetime\n",
    "print \"Last time runned on\", str(datetime.now())"
   ]
  },
  {
   "cell_type": "code",
   "execution_count": 2,
   "metadata": {
    "collapsed": false
   },
   "outputs": [
    {
     "data": {
      "application/javascript": [
       "require(['codemirror/mode/clike/clike'], function(Clike) { console.log('ROOTaaS - C++ CodeMirror module loaded'); });"
      ]
     },
     "metadata": {},
     "output_type": "display_data"
    },
    {
     "data": {
      "application/javascript": [
       "IPython.CodeCell.config_defaults.highlight_modes['magic_text/x-c++src'] = {'reg':[/^%%cpp/]};"
      ]
     },
     "metadata": {},
     "output_type": "display_data"
    },
    {
     "name": "stdout",
     "output_type": "stream",
     "text": [
      "Welcome to ROOTaaS 6.06/08\n"
     ]
    }
   ],
   "source": [
    "from quantileRegression import quantileRegression\n",
    "import numpy as np"
   ]
  },
  {
   "cell_type": "code",
   "execution_count": 3,
   "metadata": {
    "collapsed": false
   },
   "outputs": [],
   "source": [
    "# Variable you want to correct\n",
    "ylist = [\"R9\"] # , \"S4\", \"SigmaIeIe\", \"EtaWidth\", \"PhiWidth\", \"CovarianceIphiIphi\", \"SigmaRR\", 'CovarianceIetaIphi']\n",
    "\n",
    "# Input variables used for the regression\n",
    "X = ['Pt', 'ScEta', 'Phi', 'rho']  # <<-- list"
   ]
  },
  {
   "cell_type": "code",
   "execution_count": 4,
   "metadata": {
    "collapsed": false
   },
   "outputs": [
    {
     "name": "stdout",
     "output_type": "stream",
     "text": [
      "Number of quantiles  9\n"
     ]
    }
   ],
   "source": [
    "# Set the quantiles \n",
    "quantiles = [ 0.1, 0.2, 0.3, 0.4, 0.5, 0.6, 0.7, 0.8, 0.9 ]\n",
    "print \"Number of quantiles \", len(quantiles)"
   ]
  },
  {
   "cell_type": "code",
   "execution_count": 5,
   "metadata": {
    "collapsed": true
   },
   "outputs": [],
   "source": [
    "# Initialize the quantile regression object for mc\n",
    "qr_mc = quantileRegression(\"mc\")"
   ]
  },
  {
   "cell_type": "code",
   "execution_count": 6,
   "metadata": {
    "collapsed": false,
    "scrolled": false
   },
   "outputs": [
    {
     "name": "stdout",
     "output_type": "stream",
     "text": [
      "Load the mc dataframe\n",
      "NT branches: \n",
      "['run', 'rho', 'nvtx', 'mass', 'weight', 'leadEleMatch', 'subleadEleMatch', 'leadPt', 'leadScEta', 'leadPhi', 'leadScEnergy', 'leadScPreshowerEnergy', 'leadSigmaRR', 'leadPhoIso03', 'leadChIso03', 'leadChIso03worst', 'leadPhoIDMVA', 'leadR9', 'leadS4', 'leadEtaWidth', 'leadPhiWidth', 'leadSigmaIeIe', 'leadCovarianceIetaIphi', 'leadCovarianceIphiIphi', 'subleadPt', 'subleadScEta', 'subleadPhi', 'subleadScEnergy', 'subleadScPreshowerEnergy', 'subleadSigmaRR', 'subleadPhoIso03', 'subleadChIso03', 'subleadChIso03worst', 'subLeadPhoIDMVA', 'subleadR9', 'subleadS4', 'subleadEtaWidth', 'subleadPhiWidth', 'subleadSigmaIeIe', 'subleadCovarianceIetaIphi', 'subleadCovarianceIphiIphi']\n",
      "['cicNoSigmaIetaIeta/trees/DYToEE_powheg_13TeV_EBHighR9', 'cicNoSigmaIetaIeta/trees/DYToEE_powheg_13TeV_EBLowR9', 'cicNoSigmaIetaIeta/trees/DYToEE_powheg_13TeV_EEHighR9', 'cicNoSigmaIetaIeta/trees/DYToEE_powheg_13TeV_EELowR9']\n",
      "Adding trees into a DataFrame\n",
      "  adding  cicNoSigmaIetaIeta/trees/DYToEE_powheg_13TeV_EBHighR9\n",
      "  adding  cicNoSigmaIetaIeta/trees/DYToEE_powheg_13TeV_EBLowR9\n",
      "  adding  cicNoSigmaIetaIeta/trees/DYToEE_powheg_13TeV_EEHighR9\n",
      "  adding  cicNoSigmaIetaIeta/trees/DYToEE_powheg_13TeV_EELowR9\n",
      "Number of events  \n",
      "run                          8741743\n",
      "rho                          8741743\n",
      "nvtx                         8741743\n",
      "mass                         8741743\n",
      "weight                       8741743\n",
      "leadEleMatch                 8741743\n",
      "subleadEleMatch              8741743\n",
      "leadPt                       8741743\n",
      "leadScEta                    8741743\n",
      "leadPhi                      8741743\n",
      "leadScEnergy                 8741743\n",
      "leadScPreshowerEnergy        8741743\n",
      "leadSigmaRR                  8741743\n",
      "leadPhoIso03                 8741743\n",
      "leadChIso03                  8741743\n",
      "leadChIso03worst             8741743\n",
      "leadPhoIDMVA                 8741743\n",
      "leadR9                       8741743\n",
      "leadS4                       8741743\n",
      "leadEtaWidth                 8741743\n",
      "leadPhiWidth                 8741743\n",
      "leadSigmaIeIe                8741743\n",
      "leadCovarianceIetaIphi       8741743\n",
      "leadCovarianceIphiIphi       8741743\n",
      "subleadPt                    8741743\n",
      "subleadScEta                 8741743\n",
      "subleadPhi                   8741743\n",
      "subleadScEnergy              8741743\n",
      "subleadScPreshowerEnergy     8741743\n",
      "subleadSigmaRR               8741743\n",
      "subleadPhoIso03              8741743\n",
      "subleadChIso03               8741743\n",
      "subleadChIso03worst          8741743\n",
      "subLeadPhoIDMVA              8741743\n",
      "subleadR9                    8741743\n",
      "subleadS4                    8741743\n",
      "subleadEtaWidth              8741743\n",
      "subleadPhiWidth              8741743\n",
      "subleadSigmaIeIe             8741743\n",
      "subleadCovarianceIetaIphi    8741743\n",
      "subleadCovarianceIphiIphi    8741743\n",
      "dtype: int64\n",
      "# lead eleMatch    =  7617405\n",
      "# sublead eleMatch =  7137144\n",
      "MC Sublead\n",
      "run                   7617405\n",
      "rho                   7617405\n",
      "nvtx                  7617405\n",
      "mass                  7617405\n",
      "weight                7617405\n",
      "Pt                    7617405\n",
      "ScEta                 7617405\n",
      "Phi                   7617405\n",
      "ScEnergy              7617405\n",
      "ScPreshowerEnergy     7617405\n",
      "SigmaRR               7617405\n",
      "PhoIso03              7617405\n",
      "ChIso03               7617405\n",
      "ChIso03worst          7617405\n",
      "PhoIDMVA              7617405\n",
      "R9                    7617405\n",
      "S4                    7617405\n",
      "EtaWidth              7617405\n",
      "PhiWidth              7617405\n",
      "SigmaIeIe             7617405\n",
      "CovarianceIetaIphi    7617405\n",
      "CovarianceIphiIphi    7617405\n",
      "dtype: int64\n",
      "MC Lead\n",
      "run                   7137144\n",
      "rho                   7137144\n",
      "nvtx                  7137144\n",
      "mass                  7137144\n",
      "weight                7137144\n",
      "Pt                    7137144\n",
      "ScEta                 7137144\n",
      "Phi                   7137144\n",
      "ScEnergy              7137144\n",
      "ScPreshowerEnergy     7137144\n",
      "SigmaRR               7137144\n",
      "PhoIso03              7137144\n",
      "ChIso03               7137144\n",
      "ChIso03worst          7137144\n",
      "PhoIDMVA              7137144\n",
      "R9                    7137144\n",
      "S4                    7137144\n",
      "EtaWidth              7137144\n",
      "PhiWidth              7137144\n",
      "SigmaIeIe             7137144\n",
      "CovarianceIetaIphi    7137144\n",
      "CovarianceIphiIphi    7137144\n",
      "dtype: int64\n",
      "Count final dataset\n",
      "index                 14754549\n",
      "run                   14754549\n",
      "rho                   14754549\n",
      "nvtx                  14754549\n",
      "mass                  14754549\n",
      "weight                14754549\n",
      "Pt                    14754549\n",
      "ScEta                 14754549\n",
      "Phi                   14754549\n",
      "ScEnergy              14754549\n",
      "ScPreshowerEnergy     14754549\n",
      "SigmaRR               14754549\n",
      "PhoIso03              14754549\n",
      "ChIso03               14754549\n",
      "ChIso03worst          14754549\n",
      "PhoIDMVA              14754549\n",
      "R9                    14754549\n",
      "S4                    14754549\n",
      "EtaWidth              14754549\n",
      "PhiWidth              14754549\n",
      "SigmaIeIe             14754549\n",
      "CovarianceIetaIphi    14754549\n",
      "CovarianceIphiIphi    14754549\n",
      "dtype: int64\n",
      "Index([u'index', u'run', u'rho', u'nvtx', u'mass', u'weight', u'Pt', u'ScEta',\n",
      "       u'Phi', u'ScEnergy', u'ScPreshowerEnergy', u'SigmaRR', u'PhoIso03',\n",
      "       u'ChIso03', u'ChIso03worst', u'PhoIDMVA', u'R9', u'S4', u'EtaWidth',\n",
      "       u'PhiWidth', u'SigmaIeIe', u'CovarianceIetaIphi',\n",
      "       u'CovarianceIphiIphi'],\n",
      "      dtype='object')\n",
      "\u001b[92mApply basic selection\u001b[0m\n",
      " ptmin  =  25.0 \n",
      " ptmax  =  150.0  \n",
      " etamin =  -2.5  \n",
      " etamax =  2.5  \n",
      " phimin =  -3.14  \n",
      " phimax =  3.14\n",
      "DataFrame size after basic selection =  14714149\n",
      "\u001b[92mReshuffle events\u001b[0m rndm seed  =  12345\n",
      "\u001b[92mSelecting events \u001b[0m  [ 2000000 ,  3000000 ]  out of  14714149\n",
      "DataFrame size =  1000000\n"
     ]
    }
   ],
   "source": [
    "# This is what you want to correct\n",
    "print \"Load the mc dataframe\"\n",
    "startEvtmc = 2000000 \n",
    "stopEvtmc  = 3000000\n",
    "qr_mc.loadDF(# \"/mnt/t3nfs01/data01/shome/mdonega/lxplus/work/CMSSW_8_0_26_patch1/src/diphotons/Analysis/macros/double_ele_v9_moriond17_mc/\",\n",
    "             \"/mnt/t3nfs01/data01/shome/mdonega/dataMC/nt/double_ele_spring16v2_sync_v2_mc/\",            \n",
    "             \"cicNoSigmaIetaIeta/trees/\",\n",
    "             [\"DYToEE_powheg_13TeV_EBHighR9\", \"DYToEE_powheg_13TeV_EBLowR9\", \"DYToEE_powheg_13TeV_EEHighR9\", \"DYToEE_powheg_13TeV_EELowR9\" ],\n",
    "             # [\"DYJetsToLL_13TeV_EBHighR9\", \"DYJetsToLL_13TeV_EBLowR9\", \"DYJetsToLL_13TeV_EEHighR9\", \"DYJetsToLL_13TeV_EELowR9\" ],\n",
    "              startEvtmc, stopEvtmc, rndm = 12345 )"
   ]
  },
  {
   "cell_type": "code",
   "execution_count": 7,
   "metadata": {
    "collapsed": false
   },
   "outputs": [
    {
     "name": "stdout",
     "output_type": "stream",
     "text": [
      "Corrected variables file (e.g.  correctedTargets.h5  ) does not exists. This will take a while...\n",
      "Correct both EB and EE together\n",
      "Loading mc weights for  R9  : \n",
      "    ./weights/mc_weights\n"
     ]
    },
    {
     "ename": "IOError",
     "evalue": "[Errno 2] No such file or directory: './weights/mc_weights_R9_0.1.pkl'",
     "output_type": "error",
     "traceback": [
      "\u001b[0;31m\u001b[0m",
      "\u001b[0;31mIOError\u001b[0mTraceback (most recent call last)",
      "\u001b[0;32m<ipython-input-7-033d2acc1a62>\u001b[0m in \u001b[0;36m<module>\u001b[0;34m()\u001b[0m\n\u001b[1;32m      1\u001b[0m \u001b[0;31m#print \"Get the corrected data-mc values\"\u001b[0m\u001b[0;34m\u001b[0m\u001b[0;34m\u001b[0m\u001b[0m\n\u001b[0;32m----> 2\u001b[0;31m \u001b[0mqr_mc\u001b[0m\u001b[0;34m.\u001b[0m\u001b[0mcorrectAllY\u001b[0m\u001b[0;34m(\u001b[0m\u001b[0mX\u001b[0m\u001b[0;34m,\u001b[0m \u001b[0mylist\u001b[0m\u001b[0;34m,\u001b[0m \u001b[0mquantiles\u001b[0m\u001b[0;34m,\u001b[0m \u001b[0mforceComputeCorrections\u001b[0m\u001b[0;34m=\u001b[0m\u001b[0;34m\"True\"\u001b[0m\u001b[0;34m)\u001b[0m\u001b[0;34m\u001b[0m\u001b[0m\n\u001b[0m",
      "\u001b[0;32m/mnt/t3nfs01/data01/shome/mdonega/dataMC/MTR/quantileRegression.pyc\u001b[0m in \u001b[0;36mcorrectAllY\u001b[0;34m(self, x, ylist, quantiles, n_jobs, forceComputeCorrections, EBEE)\u001b[0m\n\u001b[1;32m   1077\u001b[0m             \u001b[0;32mprint\u001b[0m \u001b[0;34m\"Loading mc weights for \"\u001b[0m\u001b[0;34m,\u001b[0m \u001b[0mY\u001b[0m\u001b[0;34m,\u001b[0m \u001b[0;34m\" : \"\u001b[0m\u001b[0;34m\u001b[0m\u001b[0m\n\u001b[1;32m   1078\u001b[0m             \u001b[0;32mprint\u001b[0m \u001b[0;34m\"   \"\u001b[0m\u001b[0;34m,\u001b[0m \u001b[0mmcfilename\u001b[0m\u001b[0;34m\u001b[0m\u001b[0m\n\u001b[0;32m-> 1079\u001b[0;31m             \u001b[0mself\u001b[0m\u001b[0;34m.\u001b[0m\u001b[0mloadMcWeights\u001b[0m\u001b[0;34m(\u001b[0m\u001b[0mmcfilename\u001b[0m\u001b[0;34m,\u001b[0m \u001b[0mY\u001b[0m\u001b[0;34m,\u001b[0m \u001b[0mquantiles\u001b[0m\u001b[0;34m)\u001b[0m\u001b[0;34m\u001b[0m\u001b[0m\n\u001b[0m\u001b[1;32m   1080\u001b[0m \u001b[0;34m\u001b[0m\u001b[0m\n\u001b[1;32m   1081\u001b[0m             \u001b[0;32mprint\u001b[0m \u001b[0;34m\"Loading data weights for \"\u001b[0m\u001b[0;34m,\u001b[0m \u001b[0mY\u001b[0m\u001b[0;34m\u001b[0m\u001b[0m\n",
      "\u001b[0;32m/mnt/t3nfs01/data01/shome/mdonega/dataMC/MTR/quantileRegression.pyc\u001b[0m in \u001b[0;36mloadMcWeights\u001b[0;34m(self, filename, var, quantiles)\u001b[0m\n\u001b[1;32m    837\u001b[0m       \u001b[0;32mfor\u001b[0m \u001b[0mq\u001b[0m \u001b[0;32min\u001b[0m \u001b[0mquantiles\u001b[0m\u001b[0;34m:\u001b[0m\u001b[0;34m\u001b[0m\u001b[0m\n\u001b[1;32m    838\u001b[0m          \u001b[0mmcWeights\u001b[0m \u001b[0;34m=\u001b[0m \u001b[0mfilename\u001b[0m \u001b[0;34m+\u001b[0m \u001b[0;34m\"_\"\u001b[0m \u001b[0;34m+\u001b[0m \u001b[0mvar\u001b[0m \u001b[0;34m+\u001b[0m \u001b[0;34m'_'\u001b[0m \u001b[0;34m+\u001b[0m \u001b[0mstr\u001b[0m\u001b[0;34m(\u001b[0m\u001b[0mq\u001b[0m\u001b[0;34m)\u001b[0m \u001b[0;34m+\u001b[0m \u001b[0;34m\".pkl\"\u001b[0m\u001b[0;34m\u001b[0m\u001b[0m\n\u001b[0;32m--> 839\u001b[0;31m          \u001b[0mself\u001b[0m\u001b[0;34m.\u001b[0m\u001b[0mmcclf\u001b[0m    \u001b[0;34m.\u001b[0m\u001b[0mappend\u001b[0m\u001b[0;34m(\u001b[0m\u001b[0mpickle\u001b[0m\u001b[0;34m.\u001b[0m\u001b[0mload\u001b[0m\u001b[0;34m(\u001b[0m\u001b[0mgzip\u001b[0m\u001b[0;34m.\u001b[0m\u001b[0mopen\u001b[0m\u001b[0;34m(\u001b[0m\u001b[0mmcWeights\u001b[0m\u001b[0;34m)\u001b[0m\u001b[0;34m)\u001b[0m\u001b[0;34m)\u001b[0m\u001b[0;34m\u001b[0m\u001b[0m\n\u001b[0m\u001b[1;32m    840\u001b[0m       \u001b[0;32mif\u001b[0m \u001b[0mdbg\u001b[0m \u001b[0;34m:\u001b[0m \u001b[0;32mprint\u001b[0m \u001b[0;34m\"MC   weights : \"\u001b[0m\u001b[0;34m,\u001b[0m \u001b[0mmcclf\u001b[0m\u001b[0;34m\u001b[0m\u001b[0m\n\u001b[1;32m    841\u001b[0m \u001b[0;34m\u001b[0m\u001b[0m\n",
      "\u001b[0;32m/swshare/anaconda/lib/python2.7/gzip.pyc\u001b[0m in \u001b[0;36mopen\u001b[0;34m(filename, mode, compresslevel)\u001b[0m\n\u001b[1;32m     32\u001b[0m \u001b[0;34m\u001b[0m\u001b[0m\n\u001b[1;32m     33\u001b[0m     \"\"\"\n\u001b[0;32m---> 34\u001b[0;31m     \u001b[0;32mreturn\u001b[0m \u001b[0mGzipFile\u001b[0m\u001b[0;34m(\u001b[0m\u001b[0mfilename\u001b[0m\u001b[0;34m,\u001b[0m \u001b[0mmode\u001b[0m\u001b[0;34m,\u001b[0m \u001b[0mcompresslevel\u001b[0m\u001b[0;34m)\u001b[0m\u001b[0;34m\u001b[0m\u001b[0m\n\u001b[0m\u001b[1;32m     35\u001b[0m \u001b[0;34m\u001b[0m\u001b[0m\n\u001b[1;32m     36\u001b[0m \u001b[0;32mclass\u001b[0m \u001b[0mGzipFile\u001b[0m\u001b[0;34m(\u001b[0m\u001b[0mio\u001b[0m\u001b[0;34m.\u001b[0m\u001b[0mBufferedIOBase\u001b[0m\u001b[0;34m)\u001b[0m\u001b[0;34m:\u001b[0m\u001b[0;34m\u001b[0m\u001b[0m\n",
      "\u001b[0;32m/swshare/anaconda/lib/python2.7/gzip.pyc\u001b[0m in \u001b[0;36m__init__\u001b[0;34m(self, filename, mode, compresslevel, fileobj, mtime)\u001b[0m\n\u001b[1;32m     92\u001b[0m             \u001b[0mmode\u001b[0m \u001b[0;34m+=\u001b[0m \u001b[0;34m'b'\u001b[0m\u001b[0;34m\u001b[0m\u001b[0m\n\u001b[1;32m     93\u001b[0m         \u001b[0;32mif\u001b[0m \u001b[0mfileobj\u001b[0m \u001b[0;32mis\u001b[0m \u001b[0mNone\u001b[0m\u001b[0;34m:\u001b[0m\u001b[0;34m\u001b[0m\u001b[0m\n\u001b[0;32m---> 94\u001b[0;31m             \u001b[0mfileobj\u001b[0m \u001b[0;34m=\u001b[0m \u001b[0mself\u001b[0m\u001b[0;34m.\u001b[0m\u001b[0mmyfileobj\u001b[0m \u001b[0;34m=\u001b[0m \u001b[0m__builtin__\u001b[0m\u001b[0;34m.\u001b[0m\u001b[0mopen\u001b[0m\u001b[0;34m(\u001b[0m\u001b[0mfilename\u001b[0m\u001b[0;34m,\u001b[0m \u001b[0mmode\u001b[0m \u001b[0;32mor\u001b[0m \u001b[0;34m'rb'\u001b[0m\u001b[0;34m)\u001b[0m\u001b[0;34m\u001b[0m\u001b[0m\n\u001b[0m\u001b[1;32m     95\u001b[0m         \u001b[0;32mif\u001b[0m \u001b[0mfilename\u001b[0m \u001b[0;32mis\u001b[0m \u001b[0mNone\u001b[0m\u001b[0;34m:\u001b[0m\u001b[0;34m\u001b[0m\u001b[0m\n\u001b[1;32m     96\u001b[0m             \u001b[0;31m# Issue #13781: os.fdopen() creates a fileobj with a bogus name\u001b[0m\u001b[0;34m\u001b[0m\u001b[0;34m\u001b[0m\u001b[0m\n",
      "\u001b[0;31mIOError\u001b[0m: [Errno 2] No such file or directory: './weights/mc_weights_R9_0.1.pkl'"
     ]
    }
   ],
   "source": [
    "#print \"Get the corrected data-mc values\"\n",
    "qr_mc.correctAllY(X, ylist, quantiles, forceComputeCorrections=\"True\")"
   ]
  },
  {
   "cell_type": "code",
   "execution_count": null,
   "metadata": {
    "collapsed": false
   },
   "outputs": [],
   "source": [
    "dfmc = qr_mc.getDF()"
   ]
  },
  {
   "cell_type": "code",
   "execution_count": null,
   "metadata": {
    "collapsed": true
   },
   "outputs": [],
   "source": [
    "import runNumbers as rn"
   ]
  },
  {
   "cell_type": "code",
   "execution_count": null,
   "metadata": {
    "collapsed": false,
    "scrolled": false
   },
   "outputs": [],
   "source": [
    "# now get the data\n",
    "qr_data = quantileRegression(\"data\")\n",
    "startEvtdata = 2000000\n",
    "stopEvtdata  = 3000000\n",
    "print \"Load the data dataframe\"\n",
    "qr_data.loadDF(# \"/mnt/t3nfs01/data01/shome/mdonega/lxplus/work/CMSSW_8_0_26_patch1/src/diphotons/Analysis/macros/double_ele_v9_moriond17_data/\", \n",
    "               \"/mnt/t3nfs01/data01/shome/mdonega/dataMC/nt/double_ele_spring16v2_sync_v2_ichep/\",\n",
    "               \"cicNoSigmaIetaIeta/trees/\",\n",
    "               [\"Data_13TeV_EBHighR9\", \"Data_13TeV_EBLowR9\", \"Data_13TeV_EEHighR9\", \"Data_13TeV_EELowR9\" ],\n",
    "               startEvtdata, stopEvtdata, rndm = 12345, \n",
    "               runStart = rn.run2016B[0], runStop = rn.run2016D[1] )"
   ]
  },
  {
   "cell_type": "code",
   "execution_count": null,
   "metadata": {
    "collapsed": true
   },
   "outputs": [],
   "source": [
    "dfdata = qr_data.getDF()"
   ]
  },
  {
   "cell_type": "code",
   "execution_count": null,
   "metadata": {
    "collapsed": false
   },
   "outputs": [],
   "source": [
    "#poors man profile plot\n",
    "import pandas as pd\n",
    "from pandas import Series, DataFrame\n",
    "import numpy as np\n",
    "import matplotlib.pyplot as plt\n",
    "\n",
    "def Profile(x,y,nbins,xmin,xmax,ax, color):\n",
    "    df = DataFrame({'x' : x , 'y' : y})\n",
    "    \n",
    "    binedges = xmin + ((xmax-xmin)/nbins) * np.arange(nbins+1)\n",
    "    df['bin'] = np.digitize(df['x'],binedges)\n",
    "\n",
    "    # print df\n",
    "    \n",
    "    bincenters = xmin + ((xmax-xmin)/nbins)*np.arange(nbins) + ((xmax-xmin)/(2*nbins))\n",
    "    # print bincenters\n",
    "    \n",
    "    ProfileFrame = DataFrame({'bincenters' : bincenters, 'N' : df['bin'].value_counts(sort=False)},index=range(1,nbins+1))\n",
    "    # ProfileFrame['N'] = ProfileFrame['N'].fillna(1)\n",
    "    # print ProfileFrame['N']\n",
    "\n",
    "    bins = ProfileFrame.index.values\n",
    "    for bin in bins:\n",
    "        ProfileFrame.ix[bin,'ymean']      = df.ix[df['bin']==bin,'y'].mean()\n",
    "        ProfileFrame.ix[bin,'yStandDev']  = df.ix[df['bin']==bin,'y'].std()\n",
    "        ProfileFrame.ix[bin,'yMeanError'] = ProfileFrame.ix[bin,'yStandDev'] / np.sqrt(ProfileFrame.ix[bin,'N'])\n",
    "\n",
    "    ProfileFrame['ymean']      = ProfileFrame['ymean'].fillna(0)\n",
    "    ProfileFrame['yMeanError'] = ProfileFrame['yMeanError'].fillna(0)\n",
    "    #ax.errorbar(ProfileFrame['bincenters'], ProfileFrame['ymean'], yerr=np.array(ProfileFrame['yMeanError']), c=color) #, xerr=(xmax-xmin)/(2*nbins), fmt=None) \n",
    "    ax.errorbar(ProfileFrame['bincenters'], ProfileFrame['ymean'], c=color) \n",
    "    return ax"
   ]
  },
  {
   "cell_type": "code",
   "execution_count": null,
   "metadata": {
    "collapsed": false,
    "scrolled": false
   },
   "outputs": [],
   "source": [
    "import matplotlib.pyplot as plt\n",
    "%matplotlib inline\n",
    "# %matplotlib notebook\n",
    "plt.style.use('ggplot')\n",
    "\n",
    "\n",
    "# split profiles in EB/EE (profile meaningless when the values of the variable are very different in the two cases)\n",
    "dfmcEB   = dfmc  .query('-1.444 < ScEta & ScEta <1.444') # ('abs(ScEta)<1.444')\n",
    "dfmcEE   = dfmc  .query('ScEta < -1.57 | ScEta >1.57  ') # ('abs(ScEta)>1.57')\n",
    "dfdataEB = dfdata.query('-1.444 < ScEta & ScEta <1.444') # ('abs(ScEta)<1.444')\n",
    "dfdataEE = dfdata.query('ScEta < -1.57 | ScEta >1.57  ') # ('abs(ScEta)>1.57')\n",
    "\n",
    "for yvar in ylist:\n",
    "    yvarcorr = yvar+\"_corr\"\n",
    "    print \"plotting \", yvar\n",
    "\n",
    "    if yvar == \"R9\":\n",
    "        minEB, maxEB = 0.7, 0.9\n",
    "        minEE, maxEE = 0.7, 0.9\n",
    "    if yvar == \"S4\":\n",
    "        minEB, maxEB = 0.75, 0.9\n",
    "        minEE, maxEE = 0.75, 0.9\n",
    "    if yvar == \"SigmaIeIe\":\n",
    "        minEB, maxEB = 0.008, 0.0095\n",
    "        minEE, maxEE = 0.022, 0.028\n",
    "    if yvar == \"EtaWidth\":\n",
    "        minEB, maxEB = 0.006, 0.012\n",
    "        minEE, maxEE = 0.005, 0.030\n",
    "    if yvar == \"PhiWidth\":\n",
    "        minEB, maxEB = 0.01, 0.06\n",
    "        minEE, maxEE = 0.02, 0.06\n",
    "    if yvar == \"CovarianceIphiIphi\":\n",
    "        minEB, maxEB = 0.010, 0.016\n",
    "        minEE, maxEE = 0.025, 0.040\n",
    "    if yvar == \"SigmaRR\":\n",
    "        minEB, maxEB = 0., 12.\n",
    "        minEE, maxEE = 0., 12.\n",
    "    if yvar == \"CovarianceIetaIphi\":\n",
    "        minEB, maxEB = -0.0002, 0.0002\n",
    "        minEE, maxEE = -0.0002, 0.0002\n",
    "    if yvar == \"PhoIso03\":\n",
    "        minEB, maxEB = 0.1, 5.0\n",
    "        minEE, maxEE = 0.1, 5.0\n",
    "    if yvar == \"ChIso03\":\n",
    "        minEB, maxEB = 0.1, 5.0\n",
    "        minEE, maxEE = 0.1, 5.0\n",
    "    if yvar == \"ChIso03worst\":\n",
    "        minEB, maxEB = 0.1, 10.0\n",
    "        minEE, maxEE = 0.1, 10.0\n",
    "    \n",
    "\n",
    "    fig = plt.figure(figsize=(8, 6))\n",
    "    ax = fig.add_subplot(111)\n",
    "    ax.set_ylim(minEB,maxEB)\n",
    "    ax.set_xlabel('ScEta')\n",
    "    ax.set_ylabel(yvar)\n",
    "    Profile(dfmcEB['ScEta']  , dfmcEB[yvar]        ,100,-2.5,2.5,ax,'green')\n",
    "    Profile(dfdataEB['ScEta'], dfdataEB[yvar]      ,100,-2.5,2.5,ax, 'red')\n",
    "    Profile(dfmcEB['ScEta']  , dfmcEB[yvar+'_corr'],100,-2.5,2.5,ax, 'blue')\n",
    "\n",
    "    fig = plt.figure(figsize=(8, 6))\n",
    "    ax = fig.add_subplot(111)\n",
    "    ax.set_ylim(minEE, maxEE)\n",
    "    ax.set_xlabel('ScEta')\n",
    "    ax.set_ylabel(yvar)\n",
    "    Profile(dfmcEE['ScEta']  , dfmcEE[yvar]        ,100,-2.5,2.5,ax,'green')\n",
    "    Profile(dfdataEE['ScEta'], dfdataEE[yvar]      ,100,-2.5,2.5,ax, 'red')\n",
    "    Profile(dfmcEE['ScEta']  , dfmcEE[yvar+'_corr'],100,-2.5,2.5,ax, 'blue')\n",
    "\n",
    "    fig = plt.figure(figsize=(8, 6))\n",
    "    ax = fig.add_subplot(111)\n",
    "    ax.set_ylim(minEB,maxEB)\n",
    "    ax.set_xlabel('Pt')\n",
    "    ax.set_ylabel(yvar)\n",
    "    Profile(dfmcEB['Pt']  , dfmcEB[yvar]        ,100,20.,80.,ax, 'green')\n",
    "    Profile(dfdataEB['Pt'], dfdataEB[yvar]      ,100,20.,80.,ax, 'red')\n",
    "    Profile(dfmcEB['Pt']  , dfmcEB[yvar+'_corr'],100,20.,80.,ax, 'blue')\n",
    "\n",
    "    fig = plt.figure(figsize=(8, 6))\n",
    "    ax = fig.add_subplot(111)\n",
    "    ax.set_ylim(minEE, maxEE)\n",
    "    ax.set_xlabel('Pt')\n",
    "    ax.set_ylabel(yvar)\n",
    "    Profile(dfmcEE['Pt']  , dfmcEE[yvar]        ,100,20.,80.,ax, 'green')\n",
    "    Profile(dfdataEE['Pt'], dfdataEE[yvar]      ,100,20.,80.,ax, 'red')\n",
    "    Profile(dfmcEE['Pt']  , dfmcEE[yvar+'_corr'],100,20.,80.,ax, 'blue')\n",
    "\n",
    "    fig = plt.figure(figsize=(8, 6))\n",
    "    ax = fig.add_subplot(111)\n",
    "    ax.set_ylim(minEB,maxEB)\n",
    "    ax.set_xlabel('rho')\n",
    "    ax.set_ylabel(yvar)\n",
    "    Profile(dfmcEB['rho']  , dfmcEB[yvar]        ,100,0.,40.,ax, 'green')\n",
    "    Profile(dfdataEB['rho'], dfdataEB[yvar]      ,100,0.,40.,ax, 'red')\n",
    "    Profile(dfmcEB['rho']  , dfmcEB[yvar+'_corr'],100,0.,40.,ax, 'blue')\n",
    "\n",
    "    fig = plt.figure(figsize=(8, 6))\n",
    "    ax = fig.add_subplot(111)\n",
    "    ax.set_ylim(minEE, maxEE)\n",
    "    ax.set_xlabel('rho')\n",
    "    ax.set_ylabel(yvar)\n",
    "    Profile(dfmcEE['rho']  , dfmcEE[yvar]        ,100,0.,40.,ax, 'green')\n",
    "    Profile(dfdataEE['rho'], dfdataEE[yvar]      ,100,0.,40.,ax, 'red')\n",
    "    Profile(dfmcEE['rho']  , dfmcEE[yvar+'_corr'],100,0.,40.,ax, 'blue')\n",
    "\n",
    "    fig = plt.figure(figsize=(8, 6))\n",
    "    ax = fig.add_subplot(111)\n",
    "    ax.set_ylim(minEB,maxEB)\n",
    "    ax.set_xlabel('ntvx')\n",
    "    ax.set_ylabel(yvar)\n",
    "    Profile(dfmcEB['nvtx']  , dfmcEB[yvar]        ,41,0.,40.,ax, 'green')\n",
    "    Profile(dfdataEB['nvtx'], dfdataEB[yvar]      ,41,0.,40.,ax, 'red')\n",
    "    Profile(dfmcEB['nvtx']  , dfmcEB[yvar+'_corr'],41,0.,40.,ax, 'blue')\n",
    "\n",
    "    fig = plt.figure(figsize=(8, 6))\n",
    "    ax = fig.add_subplot(111)\n",
    "    ax.set_ylim(minEE, maxEE)\n",
    "    ax.set_xlabel('ntvx')\n",
    "    ax.set_ylabel(yvar)\n",
    "    Profile(dfmcEE['nvtx']  , dfmcEE[yvar]        ,41,0.,40.,ax, 'green')\n",
    "    Profile(dfdataEE['nvtx'], dfdataEE[yvar]      ,41,0.,40.,ax, 'red')\n",
    "    Profile(dfmcEE['nvtx']  , dfmcEE[yvar+'_corr'],41,0.,40.,ax, 'blue')\n",
    "\n",
    "    fig = plt.figure(figsize=(8, 6))\n",
    "    ax = fig.add_subplot(111)\n",
    "    ax.set_ylim(minEB,maxEB)\n",
    "    ax.set_xlabel('Phi')\n",
    "    ax.set_ylabel(yvar)\n",
    "    Profile(dfmcEB['Phi']  , dfmcEB[yvar]        ,100,-3.14,3.14,ax, 'green')\n",
    "    Profile(dfdataEB['Phi'], dfdataEB[yvar]      ,100,-3.14,3.14,ax, 'red')\n",
    "    Profile(dfmcEB['Phi']  , dfmcEB[yvar+'_corr'],100,-3.14,3.14,ax, 'blue')\n",
    "\n",
    "    fig = plt.figure(figsize=(8, 6))\n",
    "    ax = fig.add_subplot(111)\n",
    "    ax.set_ylim(minEE, maxEE)\n",
    "    ax.set_xlabel('Phi')\n",
    "    ax.set_ylabel(yvar)\n",
    "    Profile(dfmcEE['Phi']  , dfmcEE[yvar]        ,100,-3.14,3.14,ax, 'green')\n",
    "    Profile(dfdataEE['Phi'], dfdataEE[yvar]      ,100,-3.14,3.14,ax, 'red')\n",
    "    Profile(dfmcEE['Phi']  , dfmcEE[yvar+'_corr'],100,-3.14,3.14,ax, 'blue')\n"
   ]
  },
  {
   "cell_type": "code",
   "execution_count": null,
   "metadata": {
    "collapsed": true
   },
   "outputs": [],
   "source": [
    "\n"
   ]
  },
  {
   "cell_type": "code",
   "execution_count": null,
   "metadata": {
    "collapsed": false
   },
   "outputs": [],
   "source": []
  },
  {
   "cell_type": "code",
   "execution_count": null,
   "metadata": {
    "collapsed": true
   },
   "outputs": [],
   "source": []
  }
 ],
 "metadata": {
  "kernelspec": {
   "display_name": "Python [default]",
   "language": "python",
   "name": "python2"
  },
  "language_info": {
   "codemirror_mode": {
    "name": "ipython",
    "version": 2
   },
   "file_extension": ".py",
   "mimetype": "text/x-python",
   "name": "python",
   "nbconvert_exporter": "python",
   "pygments_lexer": "ipython2",
   "version": "2.7.12"
  }
 },
 "nbformat": 4,
 "nbformat_minor": 0
}
